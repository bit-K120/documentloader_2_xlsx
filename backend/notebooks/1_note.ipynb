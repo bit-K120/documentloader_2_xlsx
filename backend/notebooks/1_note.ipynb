{
 "cells": [
  {
   "cell_type": "code",
   "execution_count": 24,
   "metadata": {},
   "outputs": [],
   "source": [
    "import sys\n",
    "import os\n",
    "\n",
    "from openai import OpenAI\n",
    "from dotenv import load_dotenv\n",
    "from pydantic import BaseModel, EmailStr\n",
    "import instructor\n",
    "\n",
    "sys.path.append(os.path.abspath(os.path.join(os.path.dirname(__name__), '..')))\n",
    "\n",
    "from functions.prompts import system_message, user_message\n",
    "\n",
    "\n",
    "load_dotenv()\n",
    "client = instructor.patch(OpenAI())"
   ]
  },
  {
   "cell_type": "code",
   "execution_count": 40,
   "metadata": {},
   "outputs": [],
   "source": [
    "class BaseAddress(BaseModel):\n",
    "    postal_code:int\n",
    "    address:str\n",
    "    phonetic_character:str\n",
    "\n",
    "class BaseSchoolInfo(BaseModel):\n",
    "    school_name:str\n",
    "    graduation_year:int\n",
    "    graduation_month:int\n",
    "\n",
    "\n",
    "class BaseEmployementHistory(BaseModel):\n",
    "    company_name:str\n",
    "    employement_style:str\n",
    "    job_position:str\n",
    "    year_started:int\n",
    "    month_started:int\n",
    "    year_ended:int\n",
    "    month_ended:int\n",
    "    task_detail:list[str]\n",
    "\n",
    "class BaseQualification(BaseModel):\n",
    "    name:str\n",
    "    month_obtained:int\n",
    "    year_obtained:int\n",
    "\n",
    "\n",
    "\n",
    "class ClientDetail(BaseModel):\n",
    "    name:str\n",
    "    phonetic_character:str\n",
    "    age:int\n",
    "    gender:str\n",
    "    phone_number:int\n",
    "    email:EmailStr\n",
    "    full_address: BaseAddress\n",
    "    full_school_info: list[BaseSchoolInfo]\n",
    "    full_employement_history:list[BaseEmployementHistory]\n",
    "    full_qualifications:list[BaseQualification]\n",
    "    Married: bool\n",
    "    support_obligation:bool\n",
    "    family_member:int\n",
    "    self_introduction:list[str]\n"
   ]
  },
  {
   "cell_type": "code",
   "execution_count": 41,
   "metadata": {},
   "outputs": [
    {
     "name": "stdout",
     "output_type": "stream",
     "text": [
      "=================================================\n",
      "name='女 おんな' phonetic_character='ジョ オンナ' age=22 gender='女性' phone_number=8094890800 email='iwmt_y831@i.softbank.jp' full_address=BaseAddress(postal_code=4870024, address='愛知県春日井市大留町2-4-10日比野ビル202号', phonetic_character='アイチケンカスガイシオオドメチョウ2-4-10ヒビノビル202ゴウ') full_school_info=[BaseSchoolInfo(school_name='愛知県立守山高等学校', graduation_year=2018, graduation_month=3)] full_employement_history=[BaseEmployementHistory(company_name='しだみ歯科', employement_style='正社員', job_position='歯科助手', year_started=2020, month_started=5, year_ended=2020, month_ended=12, task_detail=['治療の助手', '器具の洗浄・片付け', '小児の歯磨き・フッ素', 'レントゲン']), BaseEmployementHistory(company_name='明治安田生命 春日井営業所', employement_style='正社員', job_position='営業', year_started=2021, month_started=1, year_ended=2024, month_ended=4, task_detail=['お客様にアポイントを取り、提案', 'お客様から連絡を受け、給付金などの手続き'])] full_qualifications=[BaseQualification(name='普通自動車免許', month_obtained=8, year_obtained=2018)] Married=True support_obligation=True family_member=1 self_introduction=['新しいことに取り組むのが好きです', '思いついたらすぐ行動します']\n",
      "=================================================\n"
     ]
    }
   ],
   "source": [
    "\n",
    "\n",
    "\n",
    "client_data = client.chat.completions.create(\n",
    "    model=\"gpt-3.5-turbo\",\n",
    "    response_model=ClientDetail,\n",
    "    messages = [\n",
    "        {\"role\":\"user\", \"content\":user_message}\n",
    "        ]\n",
    "    )\n",
    "\n",
    "print(\"=================================================\")\n",
    "print(client_data)\n",
    "print(\"=================================================\")"
   ]
  }
 ],
 "metadata": {
  "kernelspec": {
   "display_name": ".venv",
   "language": "python",
   "name": "python3"
  },
  "language_info": {
   "codemirror_mode": {
    "name": "ipython",
    "version": 3
   },
   "file_extension": ".py",
   "mimetype": "text/x-python",
   "name": "python",
   "nbconvert_exporter": "python",
   "pygments_lexer": "ipython3",
   "version": "3.11.8"
  }
 },
 "nbformat": 4,
 "nbformat_minor": 2
}
