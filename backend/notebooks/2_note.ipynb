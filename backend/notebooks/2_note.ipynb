{
 "cells": [
  {
   "cell_type": "code",
   "execution_count": 7,
   "metadata": {},
   "outputs": [
    {
     "name": "stdout",
     "output_type": "stream",
     "text": [
      "file does not exists\n"
     ]
    }
   ],
   "source": [
    "import os\n",
    "import sys\n",
    "import openpyxl\n",
    "\n",
    "sys.path.append(os.path.abspath(os.path.join(os.path.dirname(__name__), '..')))\n",
    "\n"
   ]
  },
  {
   "cell_type": "code",
   "execution_count": 8,
   "metadata": {},
   "outputs": [
    {
     "name": "stdout",
     "output_type": "stream",
     "text": [
      "c:\\Users\\kayug\\VscordProjects\\PersonalProjects\\documentloader_2_xlsx\\v1\\backend\\notebooks\n"
     ]
    }
   ],
   "source": [
    "print(os.getcwd())"
   ]
  },
  {
   "cell_type": "code",
   "execution_count": 10,
   "metadata": {},
   "outputs": [
    {
     "name": "stdout",
     "output_type": "stream",
     "text": [
      "['履歴書']\n"
     ]
    }
   ],
   "source": [
    "file_path ='../worksheets/sample_sheet.xlsx'\n",
    "wb = openpyxl.load_workbook(file_path)\n",
    "print(wb.sheetnames)"
   ]
  },
  {
   "cell_type": "markdown",
   "metadata": {},
   "source": [
    "### シートの取得"
   ]
  },
  {
   "cell_type": "code",
   "execution_count": 11,
   "metadata": {},
   "outputs": [
    {
     "name": "stdout",
     "output_type": "stream",
     "text": [
      "<Worksheet \"履歴書\">\n"
     ]
    }
   ],
   "source": [
    "sheet = wb['履歴書']\n",
    "print(sheet)"
   ]
  },
  {
   "cell_type": "markdown",
   "metadata": {},
   "source": [
    "### セルの取得"
   ]
  },
  {
   "cell_type": "code",
   "execution_count": 17,
   "metadata": {},
   "outputs": [
    {
     "name": "stdout",
     "output_type": "stream",
     "text": [
      "{<MergedCellRange D5:F6>, <MergedCellRange K39:O40>, <MergedCellRange L12:L13>, <MergedCellRange M4:O5>, <MergedCellRange B42:B43>, <MergedCellRange B29:B30>, <MergedCellRange N28:O29>, <MergedCellRange C48:D49>, <MergedCellRange L4:L5>, <MergedCellRange C31:D33>, <MergedCellRange C38:D39>, <MergedCellRange N30:O31>, <MergedCellRange B31:B33>, <MergedCellRange C34:D35>, <MergedCellRange G19:I20>, <MergedCellRange E31:I33>, <MergedCellRange E24:I25>, <MergedCellRange B2:E4>, <MergedCellRange D13:F14>, <MergedCellRange B40:B41>, <MergedCellRange E26:I26>, <MergedCellRange E48:I49>, <MergedCellRange C42:D43>, <MergedCellRange H8:H9>, <MergedCellRange K51:O52>, <MergedCellRange B15:C17>, <MergedCellRange M9:O9>, <MergedCellRange K6:K7>, <MergedCellRange C50:D51>, <MergedCellRange M17:O18>, <MergedCellRange C44:D45>, <MergedCellRange N33:O34>, <MergedCellRange K41:O42>, <MergedCellRange B27:B28>, <MergedCellRange B19:C20>, <MergedCellRange C36:D37>, <MergedCellRange B18:C18>, <MergedCellRange D7:F9>, <MergedCellRange E36:I37>, <MergedCellRange B5:C6>, <MergedCellRange E50:I51>, <MergedCellRange L20:L21>, <MergedCellRange M26:O26>, <MergedCellRange G13:I14>, <MergedCellRange K2:K3>, <MergedCellRange B44:B45>, <MergedCellRange L22:L23>, <MergedCellRange K17:K18>, <MergedCellRange M10:O11>, <MergedCellRange C24:D25>, <MergedCellRange K30:M37>, <MergedCellRange L6:L7>, <MergedCellRange M24:O25>, <MergedCellRange H4:H5>, <MergedCellRange K20:K21>, <MergedCellRange E38:I39>, <MergedCellRange K28:M29>, <MergedCellRange E46:I47>, <MergedCellRange N32:O32>, <MergedCellRange E40:I41>, <MergedCellRange E27:I28>, <MergedCellRange K43:O44>, <MergedCellRange C27:D28>, <MergedCellRange O35:O36>, <MergedCellRange E20:F20>, <MergedCellRange M20:O21>, <MergedCellRange D18:F18>, <MergedCellRange B34:B35>, <MergedCellRange M19:O19>, <MergedCellRange B36:B37>, <MergedCellRange K4:K5>, <MergedCellRange C23:D23>, <MergedCellRange M12:O13>, <MergedCellRange K10:K11>, <MergedCellRange E42:I43>, <MergedCellRange B10:E12>, <MergedCellRange C29:D30>, <MergedCellRange E29:I30>, <MergedCellRange F2:F4>, <MergedCellRange K45:O46>, <MergedCellRange E44:I45>, <MergedCellRange K47:O48>, <MergedCellRange B13:C14>, <MergedCellRange C46:D47>, <MergedCellRange C40:D41>, <MergedCellRange B7:C9>, <MergedCellRange B46:B47>, <MergedCellRange G18:I18>, <MergedCellRange E23:I23>, <MergedCellRange M16:O16>, <MergedCellRange C26:D26>, <MergedCellRange B38:B39>, <MergedCellRange L24:L25>, <MergedCellRange G15:I17>, <MergedCellRange K22:K23>, <MergedCellRange B48:B49>, <MergedCellRange F10:F12>, <MergedCellRange D15:F17>, <MergedCellRange K12:K13>, <MergedCellRange M8:O8>, <MergedCellRange B24:B25>, <MergedCellRange L10:L11>, <MergedCellRange M2:O3>, <MergedCellRange M22:O23>, <MergedCellRange K49:O50>, <MergedCellRange M6:O7>, <MergedCellRange L2:L3>, <MergedCellRange D19:D20>, <MergedCellRange L17:L18>, <MergedCellRange E34:I35>, <MergedCellRange K24:K25>, <MergedCellRange B50:B51>, <MergedCellRange N35:N36>}\n"
     ]
    }
   ],
   "source": [
    "merged_cells = sheet.merged_cells.ranges\n",
    "print(merged_cells)"
   ]
  },
  {
   "cell_type": "code",
   "execution_count": 24,
   "metadata": {},
   "outputs": [
    {
     "name": "stdout",
     "output_type": "stream",
     "text": [
      "None\n"
     ]
    }
   ],
   "source": [
    "cell = \"E5\"\n",
    "for merged_range in merged_cells:\n",
    "    if cell in merged_range:\n",
    "        top_left_cell = sheet.cell(row=merged_range.min_row, column=merged_range.min_col) \n",
    "        top_left_cell.value = '入力したよ！'\n",
    "        break\n",
    "else:\n",
    "    sheet[cell].value = \"入力したよ!\"\n",
    "\n",
    "file_path_to_save = \"../worksheets/sample_sheet_1.xlsx\"\n",
    "wb.save(file_path_to_save)\n",
    "wb = openpyxl.load_workbook(file_path_to_save)\n",
    "sheet = wb.active\n",
    "\n",
    "\n",
    "print(sheet[cell].value)"
   ]
  },
  {
   "cell_type": "code",
   "execution_count": 15,
   "metadata": {},
   "outputs": [
    {
     "name": "stdout",
     "output_type": "stream",
     "text": [
      "<class 'str'>\n",
      "入力したよ！\n"
     ]
    }
   ],
   "source": [
    "print(type(cell))\n",
    "print(cell)"
   ]
  },
  {
   "cell_type": "code",
   "execution_count": 1,
   "metadata": {},
   "outputs": [
    {
     "data": {
      "text/plain": [
       "'1999'"
      ]
     },
     "execution_count": 1,
     "metadata": {},
     "output_type": "execute_result"
    }
   ],
   "source": [
    "birth_date = '1999/08/31'\n",
    "birth_year = birth_date.split('/')[0]\n",
    "birth_year"
   ]
  }
 ],
 "metadata": {
  "kernelspec": {
   "display_name": ".venv",
   "language": "python",
   "name": "python3"
  },
  "language_info": {
   "codemirror_mode": {
    "name": "ipython",
    "version": 3
   },
   "file_extension": ".py",
   "mimetype": "text/x-python",
   "name": "python",
   "nbconvert_exporter": "python",
   "pygments_lexer": "ipython3",
   "version": "3.11.8"
  }
 },
 "nbformat": 4,
 "nbformat_minor": 2
}
